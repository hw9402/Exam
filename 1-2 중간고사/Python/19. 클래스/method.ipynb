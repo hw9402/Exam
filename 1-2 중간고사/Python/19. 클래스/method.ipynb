{
 "cells": [
  {
   "cell_type": "markdown",
   "metadata": {},
   "source": [
    "# method()"
   ]
  },
  {
   "cell_type": "code",
   "execution_count": null,
   "metadata": {},
   "outputs": [],
   "source": [
    "class Unit:\n",
    "    def __init__(self, name, hp, damage):\n",
    "        self.name = name\n",
    "        self.hp = hp\n",
    "        self.damage = damage\n",
    "        print(f\"{self.name} 유닛이 생성되었습니다.\")\n",
    "        print(f\"체력 {self.hp}, 공격력 {self.damage}\\n\")\n",
    "        \n",
    "class AttackUnit(Unit):\n",
    "    def attack(self, location):\n",
    "        print(\"{0} : {1} 방향으로 적을 공격합니다. [공격력 {2}]\"\n",
    "              .format(self.name, location, self.damage))\n",
    "        \n",
    "    def damaged(self, damage):\n",
    "        print(\"{0} : {1} 데미지를 입었습니다.\"\n",
    "              .format(self.name, damage))\n",
    "        \n",
    "        self.hp -= damage\n",
    "        print(\"{0} : 현재 체력은 {1} 입니다.\"\n",
    "              .format(self.name, self.hp))\n",
    "        \n",
    "        if self.hp <= 0:\n",
    "            print(\"{0} : 파괴되었습니다.\"\n",
    "                  .format(self.name))\n",
    "        \n",
    "# marine1 = Unit(\"마린\", 40, 5)\n",
    "# marine2 = Unit(\"마린\", 40, 5)\n",
    "# tank = Unit(\"탱크\", 150, 35)\n",
    "\n",
    "# wrait1 = Unit(\"레이스\", 80, 5)\n",
    "# print(\"유닛 이름 : {0}, 공격력 : {1}\".format(wrait1.name, wrait1.damage))\n",
    "\n",
    "# wrait2 = Unit(\"빼앗은 레이스\", 80, 5)\n",
    "# wrait2.clocking = True\n",
    "\n",
    "# if(wrait2.clocking == True):\n",
    "#     print(\"{0} 은(는) 현재 클로킹 상태입니다.\".format(wrait2.name))\n",
    "\n",
    "# 파이어뱃 : 공격 유닛, 화염방사기\n",
    "firebat1 = AttackUnit(\"파이어뱃\", 50, 16)\n",
    "firebat1.attack(\"5시\")\n",
    "\n",
    "# 공격 2번 받는다고 가정\n",
    "firebat1.damaged(25)\n",
    "firebat1.damaged(25)"
   ]
  }
 ],
 "metadata": {
  "language_info": {
   "name": "python"
  },
  "orig_nbformat": 4
 },
 "nbformat": 4,
 "nbformat_minor": 2
}
