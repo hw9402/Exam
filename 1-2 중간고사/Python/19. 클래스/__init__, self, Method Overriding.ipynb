{
 "cells": [
  {
   "cell_type": "markdown",
   "metadata": {},
   "source": [
    "# &#95;&#95;init&#95;&#95;, self, Method Overriding"
   ]
  },
  {
   "cell_type": "code",
   "execution_count": null,
   "metadata": {},
   "outputs": [],
   "source": [
    "class Unit:\n",
    "    def __init__(self, name, hp, damage):\n",
    "        self.name = name\n",
    "        self.hp = hp\n",
    "        self.damage = damage\n",
    "        print(f\"{self.name} 유닛이 생성되었습니다.\")\n",
    "        print(f\"체력 {self.hp}, 공격력 {self.damage}\\n\")\n",
    "        \n",
    "marine1 = Unit(\"마린\", 40, 5)\n",
    "marine2 = Unit(\"마린\", 40, 5)\n",
    "tank = Unit(\"탱크\", 150, 35)"
   ]
  }
 ],
 "metadata": {
  "kernelspec": {
   "display_name": "Python 3.10.6 64-bit",
   "language": "python",
   "name": "python3"
  },
  "language_info": {
   "name": "python",
   "version": "3.10.6"
  },
  "orig_nbformat": 4,
  "vscode": {
   "interpreter": {
    "hash": "aee8b7b246df8f9039afb4144a1f6fd8d2ca17a180786b69acc140d282b71a49"
   }
  }
 },
 "nbformat": 4,
 "nbformat_minor": 2
}
