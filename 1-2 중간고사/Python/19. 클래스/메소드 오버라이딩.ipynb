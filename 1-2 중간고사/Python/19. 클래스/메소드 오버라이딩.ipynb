{
 "cells": [
  {
   "cell_type": "markdown",
   "metadata": {},
   "source": [
    "# 메소드 오버라이딩"
   ]
  },
  {
   "cell_type": "code",
   "execution_count": null,
   "metadata": {},
   "outputs": [],
   "source": [
    "class Unit:\n",
    "\tdef __init__(self, name, hp, speed):\n",
    "\t\tself.name = name\n",
    "\t\tself.hp = hp\n",
    "\t\tself.speed = speed\n",
    "\t\t\n",
    "\tdef move(self, location):\n",
    "\t\tprint(\"[지상 유닛 이동]\")\n",
    "\t\tprint(\"{0} : {1} 방향으로 이동합니다. [속도 {2}]\".format(self.name, location, self.speed))\n",
    "        \n",
    "\n",
    "class AttackUnit(Unit):\n",
    "    def __init__(self, name, hp, speed, damage):\n",
    "        Unit.__init__(self, name, hp, speed)\n",
    "        self.damage = damage\n",
    "\n",
    "    def attack(self, name, location, damage):\n",
    "        print(\"\\n{0} : {1} 방향으로 적군을 공격합니다. 공격력 {2}\".format(\n",
    "            name, location, damage))\n",
    "\n",
    "    def damaged(self, damage):\n",
    "        print(\"{0} : {1} 데미지를 입었습니다.\". format(self.name, damage))\n",
    "\n",
    "        self.hp -= damage\n",
    "        print(\"{0} : 현재 체력은 {1} 입니다.\". format(self.name, self.hp))\n",
    "\n",
    "        if self.hp <= 0:\n",
    "            print(\"{} : 파괴되었습니다.\". format(self.name))\n",
    "\n",
    "    def move(self, location):\n",
    "        super().move(location)\n",
    "        print(\"공격 유닛 입니다.\")\n",
    "        \n",
    "class BuildingUnit(Unit):\n",
    "    def __init__(self, name, hp, location):\n",
    "        pass\n",
    "        \n",
    "# marine1 = Unit(\"마린\", 40, 5)\n",
    "# marine2 = Unit(\"마린\", 40, 5)\n",
    "# tank = Unit(\"탱크\", 150, 35)\n",
    "\n",
    "# wrait1 = Unit(\"레이스\", 80, 5)\n",
    "# print(\"유닛 이름 : {0}, 공격력 : {1}\".format(wrait1.name, wrait1.damage))\n",
    "\n",
    "# wrait2 = Unit(\"빼앗은 레이스\", 80, 5)\n",
    "# wrait2.clocking = True\n",
    "\n",
    "# if(wrait2.clocking == True):\n",
    "#     print(\"{0} 은(는) 현재 클로킹 상태입니다.\".format(wrait2.name))\n",
    "\n",
    "# # 파이어뱃 : 공격 유닛, 화염방사기\n",
    "# firebat1 = AttackUnit(\"파이어뱃\", 50, 16)\n",
    "# firebat1.attack(\"5시\")\n",
    "\n",
    "# # 공격 2번 받는다고 가정\n",
    "# firebat1.damaged(25)\n",
    "# firebat1.damaged(25)\n",
    "\n",
    "marine1 = AttackUnit(\"마린\", 40, 5, 25)\n",
    "marine1.move(\"5시\")"
   ]
  }
 ],
 "metadata": {
  "language_info": {
   "name": "python"
  },
  "orig_nbformat": 4
 },
 "nbformat": 4,
 "nbformat_minor": 2
}
