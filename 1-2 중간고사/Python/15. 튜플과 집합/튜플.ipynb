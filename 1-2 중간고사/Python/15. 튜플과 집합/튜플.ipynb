{
 "cells": [
  {
   "cell_type": "markdown",
   "metadata": {},
   "source": [
    "# 튜플"
   ]
  },
  {
   "cell_type": "code",
   "execution_count": 1,
   "metadata": {},
   "outputs": [
    {
     "name": "stdout",
     "output_type": "stream",
     "text": [
      "('a', 'b', 'c', 1, 2, 3) c\n",
      "('hello',)\n",
      "('goorm', 'b', 'hello', 1, 2, 3) hello\n",
      "([1, 2, 3], {'사과': 'apple', '포도': 'grape'}, ('a', 'b', 'c'), [1, 2, 3]) {'사과': 'apple', '포도': 'grape'}\n",
      "([1, 2, 'edit'], {'사과': 'edit', '포도': 'grape'}, ('a', 'b', 'c'), [1, 2, 'edit'])\n"
     ]
    }
   ],
   "source": [
    "t1 = ('a', 'b', 'c', 1, 2, 3)\n",
    "print(t1, t1[2])\n",
    "\n",
    "t2 = (\"hello\",) #하나의 값이면 뒤에 콤마 입력\n",
    "print(t2)\n",
    "\n",
    "t3 = \"goorm\", 'b', \"hello\", 1, 2, 3 #괄호 생략 가능\n",
    "print(t3, t3[2])\n",
    "\n",
    "s1 = list(set([1,2,3])) #다음에 배우게 될 집합 Mutable 타입\n",
    "t4 = ([1, 2, 3], {\"사과\":\"apple\", \"포도\":\"grape\"}, ('a', 'b', 'c'), s1) #리스트 내 어떤 값도 가능\n",
    "print(t4, t4[1])\n",
    "\n",
    "t4[3][2] = \"edit\" #중요: 튜플 요소가 Mutable하면 수정할 수 있음\n",
    "t4[1][\"사과\"] = \"edit\"\n",
    "t4[0][2] = \"edit\"\n",
    "print(t4)"
   ]
  }
 ],
 "metadata": {
  "kernelspec": {
   "display_name": "Python 3.10.6 64-bit",
   "language": "python",
   "name": "python3"
  },
  "language_info": {
   "codemirror_mode": {
    "name": "ipython",
    "version": 3
   },
   "file_extension": ".py",
   "mimetype": "text/x-python",
   "name": "python",
   "nbconvert_exporter": "python",
   "pygments_lexer": "ipython3",
   "version": "3.10.6"
  },
  "orig_nbformat": 4,
  "vscode": {
   "interpreter": {
    "hash": "aee8b7b246df8f9039afb4144a1f6fd8d2ca17a180786b69acc140d282b71a49"
   }
  }
 },
 "nbformat": 4,
 "nbformat_minor": 2
}
