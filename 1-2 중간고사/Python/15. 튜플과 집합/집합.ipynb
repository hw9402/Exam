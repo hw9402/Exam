{
 "cells": [
  {
   "cell_type": "markdown",
   "metadata": {},
   "source": [
    "# 집합"
   ]
  },
  {
   "cell_type": "code",
   "execution_count": null,
   "metadata": {},
   "outputs": [],
   "source": [
    "str = \"Hello goorm!!!\"\n",
    "print(str, type(str))\n",
    "\n",
    "s0 = set(str) \n",
    "print(s0, type(s0))\n",
    "\n",
    "l = ['a', 'a', 'c', \"goorm\", \"hello\", 10, 30, 30]\n",
    "print(l, type(l))\n",
    "\n",
    "s1 = set(l) \n",
    "print(s1, type(s1))\n",
    "\n",
    "d = {\"Anna\":25, \"Bob\": 23}\n",
    "print(d, type(d))\n",
    "\n",
    "s2 = set(d)\n",
    "print(s2, type(s2))\n",
    "\n",
    "t = (190,)\n",
    "print(t, type(t))\n",
    "\n",
    "s3 = set(t)\n",
    "print(s3, type(s3))"
   ]
  },
  {
   "cell_type": "markdown",
   "metadata": {},
   "source": [
    "- set() : 전달인자를 집합으로 만듦"
   ]
  },
  {
   "cell_type": "code",
   "execution_count": null,
   "metadata": {},
   "outputs": [],
   "source": [
    "s1 = set([2,4,6,8,10]) \n",
    "s2 = set([1,2,3,4,5,6,7,8])\n",
    "\n",
    "interset = s1 & s2 #교집합\n",
    "print(interset)\n",
    "print(s1.intersection(s2), s2.intersection(s1)) #함수 사용\n",
    "print(s1) #s1의 값이 바뀌는 것이 아님\n",
    "\n",
    "uniset = s1 | s2 #합집합\n",
    "print(uniset)\n",
    "print(s1.union(s2)) \n",
    "print(s1) #s1의 값이 바뀌는 것이 아님\n",
    "\n",
    "difset1 = s1 - s2 #어떤 집합에서 어떤 집합을 빼느냐에 따라 다른 결괏값\n",
    "difset2 = s2 - s1\n",
    "print(difset1)\n",
    "print(difset2)"
   ]
  },
  {
   "cell_type": "code",
   "execution_count": 1,
   "metadata": {},
   "outputs": [
    {
     "name": "stdout",
     "output_type": "stream",
     "text": [
      "{1, 2, 3, 4, 'hello'}\n",
      "{1, 2, 3, 4, 'hello', 10}\n",
      "{1, 2, 3, 4, 'hello', 10, (1, 2, 3)}\n",
      "{1, 2, 3, 4, 'hello', 'a', 10, (1, 2, 3), 11, 12, 'b', 'c'}\n",
      "{'x', 1, 2, 3, 4, 'hello', 'a', 10, (1, 2, 3), 11, 12, 'y', 'b', 'z', 'c'}\n",
      "{'x', 1, 2, 3, 4, 'a', 10, (1, 2, 3), 11, 12, 'y', 'b', 'z', 'c'}\n"
     ]
    }
   ],
   "source": [
    "s1 = {1, 2, 3, 4}\n",
    "\n",
    "s1.add(\"hello\")\n",
    "print(s1)\n",
    "\n",
    "s1.add(10)\n",
    "print(s1)\n",
    "\n",
    "s1.add((1,2,3)) #add() 사용 시 튜플/문자열은 값 하나로 인식\n",
    "print(s1)\n",
    "\n",
    "s1.update(['a', 'b', 'c']) #set()과 같이 여러 값을 한 요소로 저장\n",
    "s1.update((11,12))\n",
    "print(s1)\n",
    "\n",
    "s1.update(\"zyx\") #s1.add(\"hello\")와의 차이\n",
    "print(s1)\n",
    "\n",
    "s1.remove(\"hello\") #하나의 값만 제거 가능\n",
    "print(s1)"
   ]
  }
 ],
 "metadata": {
  "kernelspec": {
   "display_name": "Python 3.10.6 64-bit",
   "language": "python",
   "name": "python3"
  },
  "language_info": {
   "codemirror_mode": {
    "name": "ipython",
    "version": 3
   },
   "file_extension": ".py",
   "mimetype": "text/x-python",
   "name": "python",
   "nbconvert_exporter": "python",
   "pygments_lexer": "ipython3",
   "version": "3.10.6"
  },
  "orig_nbformat": 4,
  "vscode": {
   "interpreter": {
    "hash": "aee8b7b246df8f9039afb4144a1f6fd8d2ca17a180786b69acc140d282b71a49"
   }
  }
 },
 "nbformat": 4,
 "nbformat_minor": 2
}
