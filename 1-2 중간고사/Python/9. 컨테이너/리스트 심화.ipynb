{
 "cells": [
  {
   "cell_type": "markdown",
   "metadata": {},
   "source": [
    "# 리스트 심화"
   ]
  },
  {
   "cell_type": "code",
   "execution_count": null,
   "metadata": {},
   "outputs": [],
   "source": [
    "al = ['A', 'B', 'C', 'Dddd']\n",
    "print(len(al)) # 4\n",
    "al.append('E')\n",
    "print(al) #['A', 'B', 'C', 'Dddd', 'E']\n",
    "del(al[0])\n",
    "print(al) #['B', 'C', 'Dddd', 'E']\n",
    "del(al[1])\n",
    "print(al) #['B', 'Dddd', 'E']\n",
    "al[1][0] = ''\n",
    "print(al)"
   ]
  }
 ],
 "metadata": {
  "kernelspec": {
   "display_name": "Python 3.10.6 64-bit",
   "language": "python",
   "name": "python3"
  },
  "language_info": {
   "codemirror_mode": {
    "name": "ipython",
    "version": 3
   },
   "file_extension": ".py",
   "mimetype": "text/x-python",
   "name": "python",
   "nbconvert_exporter": "python",
   "pygments_lexer": "ipython3",
   "version": "3.10.6"
  },
  "orig_nbformat": 4,
  "vscode": {
   "interpreter": {
    "hash": "aee8b7b246df8f9039afb4144a1f6fd8d2ca17a180786b69acc140d282b71a49"
   }
  }
 },
 "nbformat": 4,
 "nbformat_minor": 2
}
