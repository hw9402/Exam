{
 "cells": [
  {
   "cell_type": "markdown",
   "metadata": {},
   "source": [
    "# 기본사용법"
   ]
  },
  {
   "cell_type": "code",
   "execution_count": null,
   "metadata": {},
   "outputs": [],
   "source": [
    "print(type('egoing')) #<class 'str'>\n",
    "name = 'egoing'\n",
    "print(name) #egoing\n",
    "print(name.upper())\n",
    "print(type(['egoing', 'leezche', 'graphittie'])) #<class 'list'>\n",
    "names = ['egoing', 'leezche', 'graphittie']\n",
    "print(names) \n",
    "print(names[2]) #graphittie\n",
    "egoing = ['programmer', 'seoul', 25, False]\n",
    "egoing[1] = 'busan'\n",
    "print(egoing) #['programmer', 'busan', 25, False]"
   ]
  }
 ],
 "metadata": {
  "kernelspec": {
   "display_name": "Python 3.10.6 64-bit",
   "language": "python",
   "name": "python3"
  },
  "language_info": {
   "codemirror_mode": {
    "name": "ipython",
    "version": 3
   },
   "file_extension": ".py",
   "mimetype": "text/x-python",
   "name": "python",
   "nbconvert_exporter": "python",
   "pygments_lexer": "ipython3",
   "version": "3.10.6"
  },
  "orig_nbformat": 4,
  "vscode": {
   "interpreter": {
    "hash": "aee8b7b246df8f9039afb4144a1f6fd8d2ca17a180786b69acc140d282b71a49"
   }
  }
 },
 "nbformat": 4,
 "nbformat_minor": 2
}
