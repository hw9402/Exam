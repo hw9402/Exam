{
 "cells": [
  {
   "cell_type": "markdown",
   "metadata": {},
   "source": [
    "# 주석"
   ]
  },
  {
   "cell_type": "code",
   "execution_count": null,
   "metadata": {},
   "outputs": [],
   "source": [
    "# -*- coding: utf-8 -*-\n",
    "# UTF-8 encoding when using korean\n",
    "\n",
    "'''\n",
    "조건문 예제\n",
    "egoing\n",
    "2015\n",
    "'''\n",
    "# user input password\n",
    "'''\n",
    "input = 33\n",
    "real_egoing = 11\n",
    "#real_k8805 = \"ab\"\n",
    "if real_egoing == input:\n",
    "  print(\"Hello!, egoing\")\n",
    "#elif real_k8805 == input:\n",
    "#  print(\"Hello!, k8805\")\n",
    "else:\n",
    "  print(\"Who are you?\")\n",
    "'''"
   ]
  }
 ],
 "metadata": {
  "language_info": {
   "name": "python"
  },
  "orig_nbformat": 4
 },
 "nbformat": 4,
 "nbformat_minor": 2
}
