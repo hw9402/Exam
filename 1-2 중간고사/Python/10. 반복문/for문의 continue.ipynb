{
 "cells": [
  {
   "cell_type": "markdown",
   "metadata": {},
   "source": [
    "# for문의 continue"
   ]
  },
  {
   "cell_type": "code",
   "execution_count": null,
   "metadata": {},
   "outputs": [],
   "source": [
    "marks = [90, 25, 67, 45, 80]\n",
    "number = 0\n",
    "\n",
    "for mark in marks:\n",
    "\tnumber += 1\n",
    "\tif mark < 60: continue\n",
    "\tprint(f\"{number}번 학생 축하합니다. 합격입니다.\")"
   ]
  }
 ],
 "metadata": {
  "language_info": {
   "name": "python"
  },
  "orig_nbformat": 4
 },
 "nbformat": 4,
 "nbformat_minor": 2
}
