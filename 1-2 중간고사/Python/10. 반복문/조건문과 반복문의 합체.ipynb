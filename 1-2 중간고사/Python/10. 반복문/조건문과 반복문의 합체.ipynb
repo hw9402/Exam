{
 "cells": [
  {
   "cell_type": "markdown",
   "metadata": {},
   "source": [
    "# 조건문과 반복문의 합체"
   ]
  },
  {
   "cell_type": "code",
   "execution_count": null,
   "metadata": {},
   "outputs": [],
   "source": [
    "marks = [90, 25, 67, 45, 80]\n",
    "i = 0\n",
    "o = x = 0\n",
    "\n",
    "for mark in marks:\n",
    "\ti += 1\n",
    "\tprint(mark)\n",
    "\tif mark >= 60:\n",
    "\t\tprint(f\"{i}번 학생은 {mark}점으로 합격입니다.\")\n",
    "\t\to += 1\n",
    "\telse:\n",
    "\t\tprint(f\"{i}번 학생은 {mark}점으로 불합격입니다\")\n",
    "\t\tx += 1\n",
    "print(f\"합격: {o}명, 불합격: {x}명\")"
   ]
  }
 ],
 "metadata": {
  "kernelspec": {
   "display_name": "Python 3.10.6 64-bit",
   "language": "python",
   "name": "python3"
  },
  "language_info": {
   "name": "python",
   "version": "3.10.6"
  },
  "orig_nbformat": 4,
  "vscode": {
   "interpreter": {
    "hash": "aee8b7b246df8f9039afb4144a1f6fd8d2ca17a180786b69acc140d282b71a49"
   }
  }
 },
 "nbformat": 4,
 "nbformat_minor": 2
}
