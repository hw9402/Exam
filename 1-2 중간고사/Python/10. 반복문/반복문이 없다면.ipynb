{
 "cells": [
  {
   "cell_type": "markdown",
   "metadata": {},
   "source": [
    "# 반복문이 없다면"
   ]
  },
  {
   "cell_type": "code",
   "execution_count": null,
   "metadata": {},
   "outputs": [],
   "source": [
    "# 반복문 X\n",
    "print(\"Hello world 0\")\n",
    "print(\"Hello world 9\")\n",
    "print(\"Hello world 18\")\n",
    "print(\"Hello world 27\")\n",
    "print(\"Hello world 36\")\n",
    "print(\"Hello world 45\")\n",
    "print(\"Hello world 54\")\n",
    "print(\"Hello world 63\")\n",
    "print(\"Hello world 72\")\n",
    "print(\"Hello world 81\")"
   ]
  },
  {
   "cell_type": "code",
   "execution_count": null,
   "metadata": {},
   "outputs": [],
   "source": [
    "# 반복문 O\n",
    "for i in range(10):\n",
    "\tprint(\"Hello world\", i*9)"
   ]
  }
 ],
 "metadata": {
  "kernelspec": {
   "display_name": "Python 3.10.6 64-bit",
   "language": "python",
   "name": "python3"
  },
  "language_info": {
   "name": "python",
   "version": "3.10.6"
  },
  "orig_nbformat": 4,
  "vscode": {
   "interpreter": {
    "hash": "aee8b7b246df8f9039afb4144a1f6fd8d2ca17a180786b69acc140d282b71a49"
   }
  }
 },
 "nbformat": 4,
 "nbformat_minor": 2
}
