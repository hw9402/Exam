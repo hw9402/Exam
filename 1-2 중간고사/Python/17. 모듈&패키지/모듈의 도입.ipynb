{
 "cells": [
  {
   "cell_type": "markdown",
   "metadata": {},
   "source": [
    "# 모듈의 도입"
   ]
  },
  {
   "cell_type": "code",
   "execution_count": null,
   "metadata": {},
   "outputs": [],
   "source": [
    "# 일반 가격\n",
    "def price(people):\n",
    "    print(\"{0} 명 가격은 {1} 원 입니다.\".format(people, people*10000))\n",
    "    \n",
    "# 조조할인 가격\n",
    "def price_morning(people):\n",
    "    print(\"{0} 명 조조할인 가격은 {1} 원 입니다.\".format(people, people*6000))\n",
    "    \n",
    "# 군인 할인 가격\n",
    "def price_soldier(people):\n",
    "    print(\"{0} 명 군인 할인 가격은 {1} 원 입니다.\".format(people, people*4000))\n",
    "    \n",
    "if __name__ == '__main__':\n",
    "    price(30)\n",
    "    price_soldier(50)\n",
    "\t\t\n",
    "import theater_module as tm\n",
    "\n",
    "# tm.price(3)\n",
    "# tm.price_morning(4)\n",
    "# tm.price_soldier(5)\n",
    "\n",
    "from theater_module import * # 모듈 안의 모든 함수를 들고 와서 여기서 선언한 것처럼 만들어 쥼. 출처를 안 적음.\n",
    "price(3)\n",
    "price_soldier(5)\n",
    "\n",
    "from theater_module import price"
   ]
  }
 ],
 "metadata": {
  "kernelspec": {
   "display_name": "Python 3.10.6 64-bit",
   "language": "python",
   "name": "python3"
  },
  "language_info": {
   "name": "python",
   "version": "3.10.6"
  },
  "orig_nbformat": 4,
  "vscode": {
   "interpreter": {
    "hash": "aee8b7b246df8f9039afb4144a1f6fd8d2ca17a180786b69acc140d282b71a49"
   }
  }
 },
 "nbformat": 4,
 "nbformat_minor": 2
}
