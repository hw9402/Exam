{
 "cells": [
  {
   "cell_type": "markdown",
   "metadata": {},
   "source": [
    "# datetime 모듈 활용"
   ]
  },
  {
   "cell_type": "code",
   "execution_count": null,
   "metadata": {},
   "outputs": [],
   "source": [
    "import datetime as dt\n",
    "\n",
    "print('오늘 =', dt.datetime.now())\n",
    "hundred = dt.timedelta(days = 100)"
   ]
  },
  {
   "cell_type": "code",
   "execution_count": null,
   "metadata": {},
   "outputs": [],
   "source": [
    "plus100day = dt.datetime.now() + hundred\n",
    "print('100일 후 =', plus100day)"
   ]
  },
  {
   "cell_type": "code",
   "execution_count": null,
   "metadata": {},
   "outputs": [],
   "source": [
    "minus100day = dt.datetime.now() - hundred\n",
    "print('100일 전 =', minus100day)"
   ]
  },
  {
   "cell_type": "code",
   "execution_count": null,
   "metadata": {},
   "outputs": [],
   "source": [
    "week = dt.timedelta(weeks = 1)\n",
    "nextweek = dt.datetime.now() + week\n",
    "print('1주일 후 =', nextweek)"
   ]
  },
  {
   "cell_type": "code",
   "execution_count": null,
   "metadata": {},
   "outputs": [],
   "source": [
    "aday = dt.timedelta(days = 1)\n",
    "tomorrow = dt.datetime.now() + aday\n",
    "print('내일 =', tomorrow)"
   ]
  },
  {
   "cell_type": "code",
   "execution_count": null,
   "metadata": {},
   "outputs": [],
   "source": [
    "import time\n",
    "\n",
    "seconds = time.time()\n",
    "print('에폭 이후의 시간 =', seconds)"
   ]
  }
 ],
 "metadata": {
  "language_info": {
   "name": "python"
  },
  "orig_nbformat": 4
 },
 "nbformat": 4,
 "nbformat_minor": 2
}
