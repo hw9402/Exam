{
 "cells": [
  {
   "cell_type": "markdown",
   "metadata": {},
   "source": [
    "# 예외처리"
   ]
  },
  {
   "cell_type": "code",
   "execution_count": null,
   "metadata": {},
   "outputs": [],
   "source": [
    "try:\n",
    "    print(\"한 자리 숫자 나누기 전용 계산기입니다.\")\n",
    "    num1 = int(input(\"첫 번재 숫자를 입력하세요 : \"))\n",
    "    num2 = int(input(\"두 번재 숫자를 입력하세요 : \"))\n",
    "    if num1 >= 10 or num2 >= 10:\n",
    "        raise ValueError\n",
    "    print(\"{0} / {1} = {2}\".format(num1, num2, int(num1/num2)))\n",
    "except ValueError:\n",
    "    print(\"에러! 잘못된 값을 입력하였습니다.\")\n",
    "except ZeroDivisionError as err:\n",
    "    print(\"에러: \", err) # 에러 문장 출력\n",
    "except Exception as err: # 나머지 에러\n",
    "    print(\"알 수 없는 에러가 발생하였습니다.\")\n",
    "    print(err)"
   ]
  }
 ],
 "metadata": {
  "language_info": {
   "name": "python"
  },
  "orig_nbformat": 4
 },
 "nbformat": 4,
 "nbformat_minor": 2
}
