{
 "cells": [
  {
   "cell_type": "markdown",
   "metadata": {},
   "source": [
    "# OR"
   ]
  },
  {
   "cell_type": "code",
   "execution_count": null,
   "metadata": {},
   "outputs": [],
   "source": [
    "gender = input(\"성별: \")\n",
    "grade = int(input(\"학년: \"))\n",
    "if(gender=='male' and grade==1):\n",
    "\tprint(\"O\")\n",
    "else:\n",
    "\tprint(\"X\")"
   ]
  }
 ],
 "metadata": {
  "language_info": {
   "name": "python"
  },
  "orig_nbformat": 4
 },
 "nbformat": 4,
 "nbformat_minor": 2
}
