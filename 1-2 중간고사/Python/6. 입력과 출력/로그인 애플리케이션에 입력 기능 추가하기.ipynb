{
 "cells": [
  {
   "cell_type": "markdown",
   "metadata": {},
   "source": [
    "# 로그인 애플리케이션에 입력 기능 추가하기"
   ]
  },
  {
   "cell_type": "code",
   "execution_count": null,
   "metadata": {},
   "outputs": [],
   "source": [
    "in_str = input(\"아이디를 입력해주세요.\\n\")\n",
    "real_egoing = \"11\"\n",
    "real_k8805 = \"ab\"\n",
    "if real_egoing == in_str:\n",
    "  print(\"Hello!, egoing\")\n",
    "elif real_k8805 == in_str:\n",
    "  print(\"Hello!, k8805\")\n",
    "else:\n",
    "  print(\"Who are you?\")"
   ]
  }
 ],
 "metadata": {
  "kernelspec": {
   "display_name": "Python 3.10.6 64-bit",
   "language": "python",
   "name": "python3"
  },
  "language_info": {
   "name": "python",
   "version": "3.10.6"
  },
  "orig_nbformat": 4,
  "vscode": {
   "interpreter": {
    "hash": "aee8b7b246df8f9039afb4144a1f6fd8d2ca17a180786b69acc140d282b71a49"
   }
  }
 },
 "nbformat": 4,
 "nbformat_minor": 2
}
