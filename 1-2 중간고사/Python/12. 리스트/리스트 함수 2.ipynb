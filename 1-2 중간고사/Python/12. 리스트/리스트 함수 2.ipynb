{
 "cells": [
  {
   "cell_type": "markdown",
   "metadata": {},
   "source": [
    "# 리스트 함수 2"
   ]
  },
  {
   "cell_type": "code",
   "execution_count": null,
   "metadata": {},
   "outputs": [],
   "source": [
    "evennumbers = [2, 4, 6, 8]\n",
    "oddnumbers = [1, 3, 5, 7]\n",
    "evennumbers.append(10)\n",
    "print(evennumbers)\n",
    "\n",
    "evennumbers.insert(0, 0)\n",
    "print(evennumbers)\n",
    "\n",
    "evennumbers.extend(oddnumbers)\n",
    "print(evennumbers)\n",
    "print(len(evennumbers))\n",
    "\n",
    "print(sorted(evennumbers)) # sorted() => 임시적으로 정렬 (원본은 남아있음)\n",
    "print(evennumbers)\n",
    "evennumbers.sort() # sort() => 원본을 정렬\n",
    "print(evennumbers)"
   ]
  }
 ],
 "metadata": {
  "kernelspec": {
   "display_name": "Python 3.10.6 64-bit",
   "language": "python",
   "name": "python3"
  },
  "language_info": {
   "codemirror_mode": {
    "name": "ipython",
    "version": 3
   },
   "file_extension": ".py",
   "mimetype": "text/x-python",
   "name": "python",
   "nbconvert_exporter": "python",
   "pygments_lexer": "ipython3",
   "version": "3.10.6"
  },
  "orig_nbformat": 4,
  "vscode": {
   "interpreter": {
    "hash": "aee8b7b246df8f9039afb4144a1f6fd8d2ca17a180786b69acc140d282b71a49"
   }
  }
 },
 "nbformat": 4,
 "nbformat_minor": 2
}
