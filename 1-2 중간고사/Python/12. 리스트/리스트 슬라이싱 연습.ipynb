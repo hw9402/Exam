{
 "cells": [
  {
   "cell_type": "markdown",
   "metadata": {},
   "source": [
    "# 리스트 슬라이싱 연습"
   ]
  },
  {
   "cell_type": "code",
   "execution_count": null,
   "metadata": {},
   "outputs": [],
   "source": [
    "oddnumber = [1, 3, 5 ,7, 9]\n",
    "cafes = ['star', 'bene', 'yoger', 'friends']\n",
    "A = [1, 5, 'A', 'CC', 'B']\n",
    "listInList = [[1, 3, 5, 7, 9], cafes, oddnumber, 1, 3, 'Abc']\n",
    "\n",
    "a = oddnumber[1:5]\n",
    "b = cafes[1:]\n",
    "c = A[:2]\n",
    "d = listInList[0][1:4] # 리스트 내 리스트 접근\n",
    "\n",
    "print(a)\n",
    "print(b)\n",
    "print(c)\n",
    "print(d)"
   ]
  }
 ],
 "metadata": {
  "language_info": {
   "name": "python"
  },
  "orig_nbformat": 4
 },
 "nbformat": 4,
 "nbformat_minor": 2
}
