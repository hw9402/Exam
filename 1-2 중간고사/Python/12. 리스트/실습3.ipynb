{
 "cells": [
  {
   "cell_type": "markdown",
   "metadata": {},
   "source": [
    "# 실습 3"
   ]
  },
  {
   "cell_type": "code",
   "execution_count": null,
   "metadata": {},
   "outputs": [],
   "source": [
    "numbers = [2, 4, 6, 8, 10, 1, 3, 5, 7, 9]\n",
    "\n",
    "a = \"goorm\"\n",
    "\n",
    "# 공간까지 삭제\n",
    "del numbers[4]\n",
    "print(numbers)\n",
    "\n",
    "del numbers[:5]\n",
    "print(numbers)\n",
    "\n",
    "# 객체 자체를 삭제\n",
    "del a\n",
    "print(a) # 오류 발생"
   ]
  }
 ],
 "metadata": {
  "kernelspec": {
   "display_name": "Python 3.10.6 64-bit",
   "language": "python",
   "name": "python3"
  },
  "language_info": {
   "name": "python",
   "version": "3.10.6"
  },
  "orig_nbformat": 4,
  "vscode": {
   "interpreter": {
    "hash": "aee8b7b246df8f9039afb4144a1f6fd8d2ca17a180786b69acc140d282b71a49"
   }
  }
 },
 "nbformat": 4,
 "nbformat_minor": 2
}
