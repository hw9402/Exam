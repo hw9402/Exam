{
 "cells": [
  {
   "cell_type": "markdown",
   "metadata": {},
   "source": [
    "# 실습 2"
   ]
  },
  {
   "cell_type": "code",
   "execution_count": null,
   "metadata": {},
   "outputs": [],
   "source": [
    "oddnumber = [1, 3, 5, 7, 9]\n",
    "cafes = ['star', 'bene', 'yoger', 'friends']\n",
    "A = [1, 5, 'A', 'CC', 'B']\n",
    "listInList = [[1, 3, 5, 6, 7], cafes, oddnumber, 1, 3, 'Abc']\n",
    "\n",
    "a = oddnumber[1:5]\n",
    "b = cafes[1:]\n",
    "c = A[:2]\n",
    "d = listInList[0][1:4]\n",
    "\n",
    "print(a) # [3, 5, 7, 9]\n",
    "print(b) # ['bene', 'yoger', 'friends']\n",
    "print(c) # [1, 5]\n",
    "print(d) # [3, 5, 6]"
   ]
  }
 ],
 "metadata": {
  "language_info": {
   "name": "python"
  },
  "orig_nbformat": 4
 },
 "nbformat": 4,
 "nbformat_minor": 2
}
