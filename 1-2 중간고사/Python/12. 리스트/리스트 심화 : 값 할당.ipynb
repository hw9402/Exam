{
 "cells": [
  {
   "cell_type": "markdown",
   "metadata": {},
   "source": [
    "# 리스트 심화 : 값 할당"
   ]
  },
  {
   "cell_type": "code",
   "execution_count": null,
   "metadata": {},
   "outputs": [],
   "source": [
    "drawer = []\n",
    "desk = list()\n",
    "\n",
    "desk.append(\"book\")\n",
    "drawer.append(\"양말\")\n",
    "print(desk, desk[-1])\n",
    "print(drawer, drawer[0])"
   ]
  }
 ],
 "metadata": {
  "language_info": {
   "name": "python"
  },
  "orig_nbformat": 4
 },
 "nbformat": 4,
 "nbformat_minor": 2
}
