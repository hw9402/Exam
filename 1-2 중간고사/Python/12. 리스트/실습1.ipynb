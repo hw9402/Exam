{
 "cells": [
  {
   "cell_type": "markdown",
   "metadata": {},
   "source": [
    "# 실습 1"
   ]
  },
  {
   "cell_type": "code",
   "execution_count": null,
   "metadata": {},
   "outputs": [],
   "source": [
    "oddnumber = [1, 3, 5, 7, 9]\n",
    "cafes = ['star', 'bene', 'yoger', 'friends']\n",
    "A = [1, 5, 'A', 'CC', 'B']\n",
    "listInList = [[1, 3, 5, 6, 7], cafes, oddnumber, 1, 3, 'Abc']\n",
    "\n",
    "a = oddnumber[3] # 7\n",
    "b = cafes[1] # 'bene'\n",
    "c = A[2] # 'A'\n",
    "d = listInList[0][1] # 리스트 내 리스트 접근 / 3\n",
    "\n",
    "print(a)\n",
    "print(b)\n",
    "print(c)\n",
    "print(d)\n",
    "print(a + d, oddnumber[4] * listInList[4]) # 숫자 + 숫자 연산 가능\n",
    "print(b + c) # 문자열 + 문자열: 문자열 합하기"
   ]
  }
 ],
 "metadata": {
  "kernelspec": {
   "display_name": "Python 3.10.6 64-bit",
   "language": "python",
   "name": "python3"
  },
  "language_info": {
   "name": "python",
   "version": "3.10.6"
  },
  "orig_nbformat": 4,
  "vscode": {
   "interpreter": {
    "hash": "aee8b7b246df8f9039afb4144a1f6fd8d2ca17a180786b69acc140d282b71a49"
   }
  }
 },
 "nbformat": 4,
 "nbformat_minor": 2
}
