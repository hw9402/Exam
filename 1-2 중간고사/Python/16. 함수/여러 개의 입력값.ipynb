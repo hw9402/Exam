{
 "cells": [
  {
   "cell_type": "markdown",
   "metadata": {},
   "source": [
    "# 여러 개의 입력값"
   ]
  },
  {
   "cell_type": "code",
   "execution_count": null,
   "metadata": {},
   "outputs": [],
   "source": [
    "def cal(num1, num2, op):\n",
    "\tans = 0\n",
    "\tif op == '+': ans = num1 + num2\n",
    "\telif op == '-': ans = num1 - num2\n",
    "\telif op == 'x': ans = num1 * num2\n",
    "\telif op == '/': ans = num1 / num2\n",
    "\t\n",
    "\tshow(num1, num2, op, ans)\n",
    "\t\n",
    "def numInput():\n",
    "\tdata = int(input('숫자를 입력하세요.'))\n",
    "\treturn data\n",
    "\n",
    "def strInput(msg):\n",
    "\tdata = input(msg)\n",
    "\treturn data\n",
    "\n",
    "def show(num1, num2, op, ans):\n",
    "\tprint(f'{num1} {op} {num2} = {ans}')\n",
    "\t\n",
    "if __name__ == '__main__':\n",
    "\tnum1 = numInput();\n",
    "\tnum2 = numInput();\n",
    "\top = strInput('연산자를 입력하세요.')\n",
    "\tcal(num1, num2, op)"
   ]
  }
 ],
 "metadata": {
  "kernelspec": {
   "display_name": "Python 3.10.6 64-bit",
   "language": "python",
   "name": "python3"
  },
  "language_info": {
   "name": "python",
   "version": "3.10.6"
  },
  "orig_nbformat": 4,
  "vscode": {
   "interpreter": {
    "hash": "aee8b7b246df8f9039afb4144a1f6fd8d2ca17a180786b69acc140d282b71a49"
   }
  }
 },
 "nbformat": 4,
 "nbformat_minor": 2
}
