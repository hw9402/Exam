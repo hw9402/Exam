{
 "cells": [
  {
   "cell_type": "markdown",
   "metadata": {},
   "source": [
    "# 함수 연습 4\n",
    "### [colab 바로 가기](https://colab.research.google.com/drive/1ZEq_-DnPcDlEhslLgkkOpVv3EunMGCLT?usp=sharing)"
   ]
  },
  {
   "cell_type": "code",
   "execution_count": null,
   "metadata": {},
   "outputs": [],
   "source": [
    "#지역별 데이터\n",
    "data = {'서울':[81,0.052,0.4],\n",
    "        '부산':[54,0.072,0.4],\n",
    "        '대구':[55,0.06,0.4],\n",
    "        '인천':[52,0.06,0.5],\n",
    "        '광주':[61,0.064,0.5],\n",
    "        '대전':[71,0.064,0.4],\n",
    "        '울산':[60,0.068,0.4],\n",
    "        '경기':[64,0.06,0.4],\n",
    "        '강원':[62,0.062,0.4],\n",
    "        '충북':[59,0.067,0.4],\n",
    "        '충남':[65,0.063,0.4],\n",
    "        '전북':[65,0.068,0.4],\n",
    "        '전남':[51,0.062,0.4],\n",
    "        '세종':[69,0.06,0.5],\n",
    "        '경북':[57,0.066,0.4],\n",
    "        '경남':[49,0.074,0.4],\n",
    "        '제주':[66,0.076,0.3]}"
   ]
  },
  {
   "cell_type": "code",
   "execution_count": null,
   "metadata": {},
   "outputs": [],
   "source": [
    "starList = {} # 결과 저장할 빈 딕셔너리 생성"
   ]
  },
  {
   "cell_type": "code",
   "execution_count": null,
   "metadata": {},
   "outputs": [],
   "source": [
    "# 미세먼지(PM10) 등급 판단\n",
    "def PM10(num):\n",
    "  if num <= 30: return 'Good!'\n",
    "  elif num <= 90: return 'normal!'\n",
    "  elif num <= 150: return 'bad!'\n",
    "  else: return 'terrible!'"
   ]
  },
  {
   "cell_type": "code",
   "execution_count": null,
   "metadata": {},
   "outputs": [],
   "source": [
    "# 오존(O3) 등급 판단\n",
    "def O3(num):\n",
    "  if num <= 0.03: return 'Good!'\n",
    "  elif num <= 0.09: return 'normal!'\n",
    "  elif num <= 0.15: return 'bad!'\n",
    "  else: return 'terrible!'"
   ]
  },
  {
   "cell_type": "code",
   "execution_count": null,
   "metadata": {},
   "outputs": [],
   "source": [
    "# 일산화탄소(CO) 등급 판단\n",
    "def CO(num):\n",
    "  if num <= 2: return 'Good!'\n",
    "  elif num <= 9: return 'normal!'\n",
    "  elif num <= 15: return 'bad!'\n",
    "  else: return 'terrible!'"
   ]
  },
  {
   "cell_type": "code",
   "execution_count": null,
   "metadata": {},
   "outputs": [],
   "source": [
    "# 등급 별 표시\n",
    "def star(grade):\n",
    "  if grade == 'Good!': return '****'\n",
    "  elif grade == 'normal!': return '***'\n",
    "  elif grade == 'bad!': return '**'\n",
    "  elif grade == 'terrible!': return '*'"
   ]
  },
  {
   "cell_type": "code",
   "execution_count": null,
   "metadata": {},
   "outputs": [],
   "source": [
    "for key, value in data.items():\n",
    "  lt = [] # 별을 저장할 임시 기억장소 리스트\n",
    "  lt.append(star(PM10(value[0])))\n",
    "  lt.append(star(O3(value[1])))\n",
    "  lt.append(star(CO(value[2])))\n",
    "  print(lt)\n",
    "  starList[key] = lt"
   ]
  },
  {
   "cell_type": "code",
   "execution_count": null,
   "metadata": {},
   "outputs": [],
   "source": [
    "print(starList)"
   ]
  },
  {
   "cell_type": "code",
   "execution_count": null,
   "metadata": {},
   "outputs": [],
   "source": [
    "print(starList['부산'])"
   ]
  },
  {
   "cell_type": "code",
   "execution_count": null,
   "metadata": {},
   "outputs": [],
   "source": [
    "print(starList.get('부산시'))"
   ]
  }
 ],
 "metadata": {
  "language_info": {
   "name": "python"
  },
  "orig_nbformat": 4
 },
 "nbformat": 4,
 "nbformat_minor": 2
}
