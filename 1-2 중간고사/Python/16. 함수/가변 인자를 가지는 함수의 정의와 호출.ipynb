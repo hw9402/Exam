{
 "cells": [
  {
   "cell_type": "markdown",
   "metadata": {},
   "source": [
    "# 가변 인자를 가지는 함수의 정의와 호출"
   ]
  },
  {
   "cell_type": "code",
   "execution_count": null,
   "metadata": {},
   "outputs": [],
   "source": [
    "def profile(name, age, lang1, lang2, lang3, lang4, lang5):\n",
    "\tprint(\"이름 : {0}\\t나이 : {1}\\t\".format(name, age), end=\" \")\n",
    "\tprint(lang1, lang2, lang3, lang4, lang5)\n",
    "\t\n",
    "profile(\"유재석\", 20, \"Python\", \"Java\", \"C\", \"C++\", \"C#\")\n",
    "profile(\"김태호\", 25, \"Kotlin\", \"Swift\", \"\", \"\", \"\")"
   ]
  }
 ],
 "metadata": {
  "language_info": {
   "name": "python"
  },
  "orig_nbformat": 4
 },
 "nbformat": 4,
 "nbformat_minor": 2
}
