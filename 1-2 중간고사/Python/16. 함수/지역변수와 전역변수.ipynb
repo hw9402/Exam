{
 "cells": [
  {
   "cell_type": "markdown",
   "metadata": {},
   "source": [
    "# 지역변수와 전역변수"
   ]
  },
  {
   "cell_type": "code",
   "execution_count": null,
   "metadata": {},
   "outputs": [],
   "source": [
    "gun = 10\n",
    "\n",
    "def checkpoint(soldier): # 경계근무\n",
    "\tglobal gun\n",
    "\tgun = gun - soldier\n",
    "\tprint(\"[함수 내] 남은 총 : {0}\".format(gun))\n",
    "\t\n",
    "print(\"전체 총 : {0}\".format(gun))\n",
    "checkpoint(2) # 2명이 경계 근무를 나감\n",
    "print(\"남은 총 : {0}\".format(gun))"
   ]
  },
  {
   "cell_type": "code",
   "execution_count": null,
   "metadata": {},
   "outputs": [],
   "source": [
    "gun = 10\n",
    "\n",
    "def checkpoint_ret(gun, soldier):\n",
    "\tgun -= soldier\n",
    "\tprint(\"[함수 내] 남은 총 : {0}\".format(gun))\n",
    "\treturn gun\n",
    "\n",
    "print(\"전체 총 : {0}.format(gun)\")\n",
    "gun = checkpoint_ret(gun, 2)\n",
    "print(\"남은 총 : {0}\".format(gun))"
   ]
  }
 ],
 "metadata": {
  "language_info": {
   "name": "python"
  },
  "orig_nbformat": 4
 },
 "nbformat": 4,
 "nbformat_minor": 2
}
