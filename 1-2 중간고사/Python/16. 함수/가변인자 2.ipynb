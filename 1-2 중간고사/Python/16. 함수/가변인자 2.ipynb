{
 "cells": [
  {
   "cell_type": "markdown",
   "metadata": {},
   "source": [
    "# 가변인자 2"
   ]
  },
  {
   "cell_type": "code",
   "execution_count": null,
   "metadata": {},
   "outputs": [],
   "source": [
    "def profile(name,age,*a):\n",
    "\tprint(\"이름 : {0}\\t : {1}\\t\".format(name,age),end=\" \")\n",
    "\tfor lang in a :\n",
    "\t\tprint(a,end=\" \")\n",
    "\tprint()\n",
    "\t\n",
    "\t\n",
    "profile(\"Ronaldo\",35,\"ManUtd\", \"Juventus\", \"Sporting\", \"Porotukal\", \"Madrid\")\n",
    "profile(\"Lingard\",29,\"God\",\"Dancer\",\"soccer4\")"
   ]
  }
 ],
 "metadata": {
  "language_info": {
   "name": "python"
  },
  "orig_nbformat": 4
 },
 "nbformat": 4,
 "nbformat_minor": 2
}
