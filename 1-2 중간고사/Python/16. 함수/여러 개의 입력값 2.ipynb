{
 "cells": [
  {
   "cell_type": "markdown",
   "metadata": {},
   "source": [
    "# 여러 개의 입력값 2"
   ]
  },
  {
   "cell_type": "code",
   "execution_count": null,
   "metadata": {},
   "outputs": [],
   "source": [
    "def cal(a, op, b) :\n",
    "   if op==\"+\" : print(f'{a} {op} {b} = {a+b}')\n",
    "   elif op==\"-\" : print(f'{a} {op} {b} = {a-b}')\n",
    "   elif op==\"*\" : print(f'{a} {op} {b} = {a*b}')\n",
    "   else : print(f'{a} {op} {b} = {a/b}')\n",
    "a=input().split(\" \")\n",
    "\n",
    "x=int(a[0]); op=a[1]; y=eval(a[2])\n",
    "\n",
    "cal(x, op, y)"
   ]
  }
 ],
 "metadata": {
  "kernelspec": {
   "display_name": "Python 3.10.6 64-bit",
   "language": "python",
   "name": "python3"
  },
  "language_info": {
   "name": "python",
   "version": "3.10.6"
  },
  "orig_nbformat": 4,
  "vscode": {
   "interpreter": {
    "hash": "aee8b7b246df8f9039afb4144a1f6fd8d2ca17a180786b69acc140d282b71a49"
   }
  }
 },
 "nbformat": 4,
 "nbformat_minor": 2
}
