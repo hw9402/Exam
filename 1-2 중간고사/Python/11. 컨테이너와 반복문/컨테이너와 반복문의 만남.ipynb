{
 "cells": [
  {
   "cell_type": "markdown",
   "metadata": {},
   "source": [
    "# 컨테이너와 반복문의 만남"
   ]
  },
  {
   "cell_type": "code",
   "execution_count": null,
   "metadata": {},
   "outputs": [],
   "source": [
    "members = ['고윤영', '김도건', '김민우', '김준경', '김준일', '마현우', '백서진', '백진암', '변은혜', '서수민', '심효은', '원설아', '이명재', '이상진', '이희성', '정지원']\n",
    "i = 0\n",
    "while i < len(members):\n",
    "    print(members[i], end=' ')\n",
    "    i += 1\n",
    "\t\t\n",
    "members.pop() # 값이 비어있을 때 마지막 요소 삭제\n",
    "print(members)\n",
    "\n",
    "members.pop(7) # 인덱스 번호 삭제\n",
    "print(members)\n",
    "\n",
    "members.remove('김도건') # 데이터 값으로 삭제\n",
    "print(members)\n",
    "\n",
    "members.insert(1, '김도건')\n",
    "print(members)\n",
    "\n",
    "print(members.index('김도건'))\n",
    "\n",
    "members.reverse()\n",
    "print(members)"
   ]
  }
 ],
 "metadata": {
  "kernelspec": {
   "display_name": "Python 3.10.6 64-bit",
   "language": "python",
   "name": "python3"
  },
  "language_info": {
   "name": "python",
   "version": "3.10.6"
  },
  "orig_nbformat": 4,
  "vscode": {
   "interpreter": {
    "hash": "aee8b7b246df8f9039afb4144a1f6fd8d2ca17a180786b69acc140d282b71a49"
   }
  }
 },
 "nbformat": 4,
 "nbformat_minor": 2
}
