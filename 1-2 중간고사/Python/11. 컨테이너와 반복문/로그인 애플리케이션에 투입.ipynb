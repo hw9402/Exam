{
 "cells": [
  {
   "cell_type": "markdown",
   "metadata": {},
   "source": [
    "# 로그인 애플리케이션에 투입"
   ]
  },
  {
   "cell_type": "code",
   "execution_count": null,
   "metadata": {},
   "outputs": [],
   "source": [
    "input_id = input(\"아이디를 입력해주세요.\\n\")\n",
    "ids = ['egoing', 'k8805', 'leezche']\n",
    "for id in ids:\n",
    "    if id == input_id:\n",
    "        print('Hello!, '+id)\n",
    "        import sys\n",
    "        sys.exit() # == break\n",
    "print('Who are you?')"
   ]
  }
 ],
 "metadata": {
  "language_info": {
   "name": "python"
  },
  "orig_nbformat": 4
 },
 "nbformat": 4,
 "nbformat_minor": 2
}
