{
  "cells": [
    {
      "cell_type": "markdown",
      "metadata": {
        "id": "buP9WXFzFbs6"
      },
      "source": [
        "# 식중독 지수에 따른 행동요령 출력하기 프로그램 작성\n",
        "### [colab 바로 가기](https://colab.research.google.com/drive/18vx5SBErP2WP6mlJblt42wqDvRoUf6Eb?usp=sharing)"
      ]
    },
    {
      "cell_type": "code",
      "execution_count": 1,
      "metadata": {
        "id": "8TgsDzRRFTbQ"
      },
      "outputs": [],
      "source": [
        "areadata = {'서울시':57,\n",
        "            '부산시':62,\n",
        "            '대구시':59, \n",
        "            '인천시':59,\n",
        "            '강화군':58,\n",
        "            '서해5도': 64, \n",
        "            '광주시':62,\n",
        "            '대전시':60,\n",
        "            '울산시':53, \n",
        "            '세종시':58\t}\n",
        "\n",
        "report = {'위험': '설사, 구토 등 식중독 의심 증상이 있으면 의료기관을 방문하여 의사 지시에 따름',\n",
        "         '경고': '조리도구는 세척, 소독 등을 거쳐 세균오염을 방지하고 유통기한, 보관방법 등을 확인하여 음식물 조리. 보관에 각별히 주의하여야 함',\n",
        "         '주의': '조리음식은 중심부까지 75℃(어패류 85℃)로 1분 이상 완전히 익히고 외부로 운반할 때에는 가급적 아이스박스 등을 이용하여 10℃이하에서 보관 및 운반',\n",
        "         '관심': '화장실 사용 후, 귀가 후, 조리 전에 손 씻기를 생활화'}"
      ]
    },
    {
      "cell_type": "code",
      "execution_count": null,
      "metadata": {
        "id": "Cr0hN3oIGzC7"
      },
      "outputs": [],
      "source": [
        "show = {}\n",
        "\n",
        "for key, value in areadata.items():\n",
        "  if value >= 86: check = '위험'\n",
        "  elif value >= 71: check = '경고'\n",
        "  elif value >= 55: check = '주의'\n",
        "  else: check = '관심'\n",
        "  show[key] = check\n",
        "  print(show)"
      ]
    },
    {
      "cell_type": "code",
      "execution_count": null,
      "metadata": {
        "id": "Ap1pQP6yI7UX"
      },
      "outputs": [],
      "source": [
        "#        도시명 : 식중독지수               위험단계             행동요령\n",
        "city = input('도시명을 입력하세요: ')\n",
        "print(f'{city} : {areadata[city]}, {show[city]}\\n{report[show[city]]}')"
      ]
    },
    {
      "cell_type": "markdown",
      "metadata": {
        "id": "WXMYlkByRcpM"
      },
      "source": [
        "# 파일(File)\n",
        "- 파일 객체 = open(파일 이름, 파일 열기 모드, encoding='UTF-8’)"
      ]
    },
    {
      "cell_type": "code",
      "execution_count": null,
      "metadata": {
        "colab": {
          "base_uri": "https://localhost:8080/"
        },
        "id": "z88YgvGhRlZV",
        "outputId": "95b5f9c0-30fb-41ce-93e3-5770dcef77e1"
      },
      "outputs": [
        {
          "name": "stdout",
          "output_type": "stream",
          "text": [
            "Drive already mounted at /content/gdrive/; to attempt to forcibly remount, call drive.mount(\"/content/gdrive/\", force_remount=True).\n"
          ]
        }
      ],
      "source": [
        "# 구글 드라이브 마운트\n",
        "from google.colab import drive\n",
        "drive.mount('/content/gdrive/')"
      ]
    },
    {
      "cell_type": "code",
      "execution_count": null,
      "metadata": {
        "id": "wtuoFJuuSv-z"
      },
      "outputs": [],
      "source": [
        "fp = open('/content/gdrive/MyDrive/지역평균기온.txt', 'r', encoding = 'utf-8')"
      ]
    },
    {
      "cell_type": "code",
      "execution_count": null,
      "metadata": {
        "colab": {
          "base_uri": "https://localhost:8080/"
        },
        "id": "myoEhtjBTHP4",
        "outputId": "724d3527-b93b-481f-9490-7065f7370dae"
      },
      "outputs": [
        {
          "data": {
            "text/plain": [
              "<_io.TextIOWrapper name='/content/gdrive/MyDrive/지역평균기온.txt' mode='r' encoding='utf-8'>"
            ]
          },
          "execution_count": 19,
          "metadata": {},
          "output_type": "execute_result"
        }
      ],
      "source": [
        "fp"
      ]
    },
    {
      "cell_type": "code",
      "execution_count": null,
      "metadata": {
        "colab": {
          "base_uri": "https://localhost:8080/",
          "height": 54
        },
        "id": "qTkhYnvYTtp-",
        "outputId": "64cd54c5-b26e-4f76-ff35-139da945cc08"
      },
      "outputs": [
        {
          "data": {
            "application/vnd.google.colaboratory.intrinsic+json": {
              "type": "string"
            },
            "text/plain": [
              "'서울,20\\n부산,26\\n대구,24\\n인천,24\\n광주,25\\n대전,22\\n울산,26\\n세종,23\\n경기,24\\n강원,23\\n충북,26\\n충남,22\\n전북,24\\n전남,23\\n경북,28\\n경남,29\\n제주,26\\n'"
            ]
          },
          "execution_count": 20,
          "metadata": {},
          "output_type": "execute_result"
        }
      ],
      "source": [
        "data = fp.read()\n",
        "data"
      ]
    },
    {
      "cell_type": "code",
      "execution_count": null,
      "metadata": {
        "colab": {
          "base_uri": "https://localhost:8080/",
          "height": 36
        },
        "id": "vs1-uBVKTvvj",
        "outputId": "217c0df9-4d0f-4270-9b6d-4ed98b94ed21"
      },
      "outputs": [
        {
          "data": {
            "application/vnd.google.colaboratory.intrinsic+json": {
              "type": "string"
            },
            "text/plain": [
              "''"
            ]
          },
          "execution_count": 21,
          "metadata": {},
          "output_type": "execute_result"
        }
      ],
      "source": [
        "data2 = fp.readline()\n",
        "data2"
      ]
    },
    {
      "cell_type": "code",
      "execution_count": null,
      "metadata": {
        "id": "6WOmc4uLT0P1"
      },
      "outputs": [],
      "source": [
        "fp.close()"
      ]
    },
    {
      "cell_type": "code",
      "execution_count": null,
      "metadata": {
        "colab": {
          "base_uri": "https://localhost:8080/"
        },
        "id": "MPbVyXbUT3rX",
        "outputId": "d4987aa8-3df5-42d9-8af9-cd48a14a2b1a"
      },
      "outputs": [
        {
          "name": "stdout",
          "output_type": "stream",
          "text": [
            "서울,20\n",
            "부산,26\n",
            "대구,24\n",
            "인천,24\n",
            "광주,25\n",
            "대전,22\n",
            "울산,26\n",
            "세종,23\n",
            "경기,24\n",
            "강원,23\n",
            "충북,26\n",
            "충남,22\n",
            "전북,24\n",
            "전남,23\n",
            "경북,28\n",
            "경남,29\n",
            "제주,26\n",
            "\n"
          ]
        }
      ],
      "source": [
        "print(data)"
      ]
    }
  ],
  "metadata": {
    "colab": {
      "collapsed_sections": [],
      "provenance": [],
      "toc_visible": true
    },
    "kernelspec": {
      "display_name": "Python 3.10.6 64-bit",
      "language": "python",
      "name": "python3"
    },
    "language_info": {
      "codemirror_mode": {
        "name": "ipython",
        "version": 3
      },
      "file_extension": ".py",
      "mimetype": "text/x-python",
      "name": "python",
      "nbconvert_exporter": "python",
      "pygments_lexer": "ipython3",
      "version": "3.10.6"
    },
    "vscode": {
      "interpreter": {
        "hash": "aee8b7b246df8f9039afb4144a1f6fd8d2ca17a180786b69acc140d282b71a49"
      }
    }
  },
  "nbformat": 4,
  "nbformat_minor": 0
}
