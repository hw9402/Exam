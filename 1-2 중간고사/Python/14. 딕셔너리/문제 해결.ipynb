{
 "cells": [
  {
   "cell_type": "markdown",
   "metadata": {},
   "source": [
    "# 문제 해결"
   ]
  },
  {
   "cell_type": "code",
   "execution_count": null,
   "metadata": {},
   "outputs": [],
   "source": [
    "areadata = {'서울시':57, '부산시':62, '대구시':59, \n",
    "            '인천시':59, '강화군':58, '서해5도' : 64, \n",
    "            '광주시' :62, '대전시':60, '울산시':53, \n",
    "            '세종시':58\t}\n",
    "\n",
    "report = {'위험': '설사, 구토 등 식중독 의심 증상이 있으면 의료기관을 방문하여 의사 지시에 따름',\n",
    "         '경고': '조리도구는 세척, 소독 등을 거쳐 세균오염을 방지하고 유통기한, 보관방법 등을 확인하여 음식물 조리. 보관에 각별히 주의하여야 함',\n",
    "         '주의': '조리음식은 중심부까지 75℃(어패류 85℃)로 1분 이상 완전히 익히고 외부로 운반할 때에는 가급적 아이스박스 등을 이용하여 10℃이하에서 보관 및 운반',\n",
    "         '관심': '화장실 사용 후, 귀가 후, 조리 전에 손 씻기를 생활화'}\n",
    "\n",
    "show = {}\n",
    "\n",
    "for key, value in areadata.items():\n",
    "  if value >= 86: check = '위험'\n",
    "  elif value >= 71: check = '경고'\n",
    "  elif value >= 55: check = '주의'\n",
    "  else: check = '관심'\n",
    "  show[key] = check\n",
    "  # print(show)\n",
    "\t\n",
    "city = input('도시명을 입력하세요: ')\n",
    "print(f'{city} : {areadata[city]}, {show[city]}\\n{report[show[city]]}')"
   ]
  }
 ],
 "metadata": {
  "kernelspec": {
   "display_name": "Python 3.10.6 64-bit",
   "language": "python",
   "name": "python3"
  },
  "language_info": {
   "codemirror_mode": {
    "name": "ipython",
    "version": 3
   },
   "file_extension": ".py",
   "mimetype": "text/x-python",
   "name": "python",
   "nbconvert_exporter": "python",
   "pygments_lexer": "ipython3",
   "version": "3.10.6"
  },
  "orig_nbformat": 4,
  "vscode": {
   "interpreter": {
    "hash": "aee8b7b246df8f9039afb4144a1f6fd8d2ca17a180786b69acc140d282b71a49"
   }
  }
 },
 "nbformat": 4,
 "nbformat_minor": 2
}
