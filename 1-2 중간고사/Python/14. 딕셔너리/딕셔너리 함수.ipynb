{
 "cells": [
  {
   "cell_type": "markdown",
   "metadata": {},
   "source": [
    "# 딕셔너리 함수"
   ]
  },
  {
   "cell_type": "code",
   "execution_count": null,
   "metadata": {},
   "outputs": [],
   "source": [
    "mem = {\n",
    "\t\"김구름\": 25,\n",
    "\t\"박에듀\": 23,\n",
    "\t\"온라인\": 24\n",
    "}\n",
    "\n",
    "print(mem.keys())\n",
    "names = list(mem.keys()) # 새로운 리스트 변수에 초기화\n",
    "\n",
    "names.append(\"윤레벨\")\n",
    "print(\"새로운 리스트\", names)\n",
    "print(\"원래 딕셔너리에서 key 모음\", list(mem.keys()))\n",
    "print(mem.values())\n",
    "print(list(mem.values()))\n",
    "print(\"key와 value를 튜플로\", mem.items())\n",
    "print(mem.get(\"정판교\", \"없습니다\"), mem.get(\"온라인\", \"없습니다\"))\n",
    "\n",
    "exist = '박에듀' in mem # 굉장히 직관적인 용법\n",
    "print(exist)\n",
    "\n",
    "exist = '한바로' in mem\n",
    "print(exist)\n",
    "\n",
    "mem.clear()\n",
    "print(mem) # 빈 딕셔너리 출력"
   ]
  }
 ],
 "metadata": {
  "language_info": {
   "name": "python"
  },
  "orig_nbformat": 4
 },
 "nbformat": 4,
 "nbformat_minor": 2
}
