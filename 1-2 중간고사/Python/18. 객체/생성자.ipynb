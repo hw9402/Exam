{
 "cells": [
  {
   "cell_type": "markdown",
   "metadata": {},
   "source": [
    "# 생성자"
   ]
  },
  {
   "cell_type": "code",
   "execution_count": null,
   "metadata": {},
   "outputs": [],
   "source": [
    "class Cal(object):\n",
    "    def __init__(self, v1, v2):\n",
    "        print(v1, v2)\n",
    " \n",
    "c1 = Cal(10,10)\n",
    "#print(c1.add())\n",
    "#print(c1.subtract())\n",
    "c2 = Cal(30,20)\n",
    "#print(c2.add())\n",
    "#print(c2.subtract())"
   ]
  }
 ],
 "metadata": {
  "language_info": {
   "name": "python"
  },
  "orig_nbformat": 4
 },
 "nbformat": 4,
 "nbformat_minor": 2
}
