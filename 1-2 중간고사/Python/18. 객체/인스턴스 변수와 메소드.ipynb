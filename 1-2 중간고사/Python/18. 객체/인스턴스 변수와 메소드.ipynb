{
 "cells": [
  {
   "cell_type": "markdown",
   "metadata": {},
   "source": [
    "# 인스턴스 변수와 메소드"
   ]
  },
  {
   "cell_type": "code",
   "execution_count": null,
   "metadata": {},
   "outputs": [],
   "source": [
    "class Cal(object):\n",
    "    def __init__(self, v1, v2):\n",
    "        self.v1 = v1\n",
    "        self.v2 = v2\n",
    "\n",
    "    def add(self):\n",
    "        return self.v1+self.v2\n",
    "\n",
    "    def subtract(self):\n",
    "        return self.v1-self.v2\n",
    "\n",
    "c1 = Cal(10,10)\n",
    "print(c1.add())\n",
    "print(c1.subtract())\n",
    "c2 = Cal(30,20)\n",
    "print(c2.add())\n",
    "print(c2.subtract())"
   ]
  }
 ],
 "metadata": {
  "kernelspec": {
   "display_name": "Python 3.10.6 64-bit",
   "language": "python",
   "name": "python3"
  },
  "language_info": {
   "name": "python",
   "version": "3.10.6"
  },
  "orig_nbformat": 4,
  "vscode": {
   "interpreter": {
    "hash": "aee8b7b246df8f9039afb4144a1f6fd8d2ca17a180786b69acc140d282b71a49"
   }
  }
 },
 "nbformat": 4,
 "nbformat_minor": 2
}
