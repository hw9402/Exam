{
 "cells": [
  {
   "cell_type": "markdown",
   "metadata": {},
   "source": [
    "# else if"
   ]
  },
  {
   "cell_type": "code",
   "execution_count": null,
   "metadata": {},
   "outputs": [],
   "source": [
    "# 성적 등급 판별 프로그램\n",
    "score = int(input(\"점수: \"))\n",
    "if score >= 90:\n",
    "\tprint(\"A\")\n",
    "elif score >= 80:\n",
    "\tprint(\"B\")\n",
    "elif score >= 70:\n",
    "\tprint(\"C\")\n",
    "elif score >= 60:\n",
    "\tprint(\"D\")\n",
    "else:\n",
    "\tprint(\"E\")"
   ]
  }
 ],
 "metadata": {
  "kernelspec": {
   "display_name": "Python 3.10.6 64-bit",
   "language": "python",
   "name": "python3"
  },
  "language_info": {
   "name": "python",
   "version": "3.10.6"
  },
  "orig_nbformat": 4,
  "vscode": {
   "interpreter": {
    "hash": "aee8b7b246df8f9039afb4144a1f6fd8d2ca17a180786b69acc140d282b71a49"
   }
  }
 },
 "nbformat": 4,
 "nbformat_minor": 2
}
