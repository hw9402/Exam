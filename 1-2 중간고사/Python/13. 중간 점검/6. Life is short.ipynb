{
 "cells": [
  {
   "cell_type": "code",
   "execution_count": 2,
   "metadata": {},
   "outputs": [
    {
     "name": "stdout",
     "output_type": "stream",
     "text": [
      "행운번호 [4, 5, 19, 23, 25, 40] 보너스번호[27]\n"
     ]
    },
    {
     "ename": "SystemExit",
     "evalue": "",
     "output_type": "error",
     "traceback": [
      "An exception has occurred, use %tb to see the full traceback.\n",
      "\u001b[0;31mSystemExit\u001b[0m\n"
     ]
    }
   ],
   "source": [
    "import random\n",
    "luckyNum = random.sample(range(1, 45), 6)\n",
    "print(f'행운번호 {sorted(luckyNum)}', end=' ')\n",
    "\n",
    "#bonusNum = 0\n",
    "while True:\n",
    "\tbonus = random.sample(range(1, 45), 1)\n",
    "\tif bonus not in luckyNum:\n",
    "\t\tprint(f'보너스번호{bonus}')\n",
    "\t\timport sys\n",
    "\t\tsys.exit()"
   ]
  }
 ],
 "metadata": {
  "kernelspec": {
   "display_name": "Python 3.10.6 64-bit",
   "language": "python",
   "name": "python3"
  },
  "language_info": {
   "codemirror_mode": {
    "name": "ipython",
    "version": 3
   },
   "file_extension": ".py",
   "mimetype": "text/x-python",
   "name": "python",
   "nbconvert_exporter": "python",
   "pygments_lexer": "ipython3",
   "version": "3.10.6"
  },
  "orig_nbformat": 4,
  "vscode": {
   "interpreter": {
    "hash": "aee8b7b246df8f9039afb4144a1f6fd8d2ca17a180786b69acc140d282b71a49"
   }
  }
 },
 "nbformat": 4,
 "nbformat_minor": 2
}
